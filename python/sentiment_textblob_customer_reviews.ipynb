{
 "cells": [
  {
   "cell_type": "markdown",
   "id": "eb73e605",
   "metadata": {},
   "source": [
    "# Sentiment Analysis Walkthrough\n",
    "\n",
    "This notebook demonstrates a step-by-step sentiment analysis on customer reviews from a sports ecommerce dataset.  \n",
    "We will:  \n",
    "- Load raw reviews from SQL Server  \n",
    "- Clean and preprocess the text  \n",
    "- Calculate sentiment polarity scores using TextBlob  \n",
    "- Classify reviews as Positive, Neutral, or Negative  \n",
    "- Visualise the sentiment distribution  \n",
    "- Save the processed data for use in dashboards\n"
   ]
  },
  {
   "cell_type": "markdown",
   "id": "5fb057f6",
   "metadata": {},
   "source": [
    "# Step 1: Import required libraries"
   ]
  },
  {
   "cell_type": "code",
   "execution_count": 1,
   "id": "46e52ebc",
   "metadata": {},
   "outputs": [],
   "source": [
    "import pandas as pd\n",
    "from sqlalchemy import create_engine\n",
    "from textblob import TextBlob\n",
    "import re\n",
    "import matplotlib.pyplot as plt\n"
   ]
  },
  {
   "cell_type": "markdown",
   "id": "88dd0d4b",
   "metadata": {},
   "source": [
    "## Step 2: Load Customer Reviews from SQL Server\n",
    "\n",
    "We connect to the SQL Server database and fetch all reviews from the `dbo.customer_reviews` table.\n"
   ]
  },
  {
   "cell_type": "code",
   "execution_count": 2,
   "id": "326bc980",
   "metadata": {},
   "outputs": [
    {
     "name": "stdout",
     "output_type": "stream",
     "text": [
      "Connected to SQL Server successfully.\n",
      "Loaded 1363 reviews\n"
     ]
    },
    {
     "data": {
      "text/html": [
       "<div>\n",
       "<style scoped>\n",
       "    .dataframe tbody tr th:only-of-type {\n",
       "        vertical-align: middle;\n",
       "    }\n",
       "\n",
       "    .dataframe tbody tr th {\n",
       "        vertical-align: top;\n",
       "    }\n",
       "\n",
       "    .dataframe thead th {\n",
       "        text-align: right;\n",
       "    }\n",
       "</style>\n",
       "<table border=\"1\" class=\"dataframe\">\n",
       "  <thead>\n",
       "    <tr style=\"text-align: right;\">\n",
       "      <th></th>\n",
       "      <th>ReviewID</th>\n",
       "      <th>CustomerID</th>\n",
       "      <th>ProductID</th>\n",
       "      <th>ReviewDate</th>\n",
       "      <th>Rating</th>\n",
       "      <th>ReviewText</th>\n",
       "    </tr>\n",
       "  </thead>\n",
       "  <tbody>\n",
       "    <tr>\n",
       "      <th>0</th>\n",
       "      <td>1</td>\n",
       "      <td>77</td>\n",
       "      <td>18</td>\n",
       "      <td>2023-12-23</td>\n",
       "      <td>3</td>\n",
       "      <td>Average  experience,  nothing  special.</td>\n",
       "    </tr>\n",
       "    <tr>\n",
       "      <th>1</th>\n",
       "      <td>2</td>\n",
       "      <td>80</td>\n",
       "      <td>19</td>\n",
       "      <td>2024-12-25</td>\n",
       "      <td>5</td>\n",
       "      <td>The  quality  is    top-notch.</td>\n",
       "    </tr>\n",
       "    <tr>\n",
       "      <th>2</th>\n",
       "      <td>3</td>\n",
       "      <td>50</td>\n",
       "      <td>13</td>\n",
       "      <td>2025-01-26</td>\n",
       "      <td>4</td>\n",
       "      <td>Five  stars  for  the  quick  delivery.</td>\n",
       "    </tr>\n",
       "    <tr>\n",
       "      <th>3</th>\n",
       "      <td>4</td>\n",
       "      <td>78</td>\n",
       "      <td>15</td>\n",
       "      <td>2025-04-21</td>\n",
       "      <td>3</td>\n",
       "      <td>Good  quality,  but  could  be  cheaper.</td>\n",
       "    </tr>\n",
       "    <tr>\n",
       "      <th>4</th>\n",
       "      <td>5</td>\n",
       "      <td>64</td>\n",
       "      <td>2</td>\n",
       "      <td>2023-07-16</td>\n",
       "      <td>3</td>\n",
       "      <td>Average  experience,  nothing  special.</td>\n",
       "    </tr>\n",
       "  </tbody>\n",
       "</table>\n",
       "</div>"
      ],
      "text/plain": [
       "   ReviewID  CustomerID  ProductID  ReviewDate  Rating  \\\n",
       "0         1          77         18  2023-12-23       3   \n",
       "1         2          80         19  2024-12-25       5   \n",
       "2         3          50         13  2025-01-26       4   \n",
       "3         4          78         15  2025-04-21       3   \n",
       "4         5          64          2  2023-07-16       3   \n",
       "\n",
       "                                 ReviewText  \n",
       "0   Average  experience,  nothing  special.  \n",
       "1            The  quality  is    top-notch.  \n",
       "2   Five  stars  for  the  quick  delivery.  \n",
       "3  Good  quality,  but  could  be  cheaper.  \n",
       "4   Average  experience,  nothing  special.  "
      ]
     },
     "metadata": {},
     "output_type": "display_data"
    }
   ],
   "source": [
    "def fetch_data_from_sql():\n",
    "    conn_str = (\n",
    "        \"mssql+pyodbc://THUSI\\\\SQLEXPRESS/MarketingAnalytics\"\n",
    "        \"?trusted_connection=yes&driver=SQL+Server\"\n",
    "    )\n",
    "    try:\n",
    "        engine = create_engine(conn_str)\n",
    "        print(\"Connected to SQL Server successfully.\")\n",
    "        query = \"SELECT * FROM dbo.customer_reviews\"\n",
    "        df = pd.read_sql(query, engine)\n",
    "        return df\n",
    "    except Exception as e:\n",
    "        print(\"Connection failed:\", e)\n",
    "        return None\n",
    "\n",
    "df = fetch_data_from_sql()\n",
    "if df is not None:\n",
    "    print(f\"Loaded {len(df)} reviews\")\n",
    "    display(df.head())\n",
    "else:\n",
    "    print(\"Failed to load data\")\n"
   ]
  },
  {
   "cell_type": "markdown",
   "id": "893ad661",
   "metadata": {},
   "source": [
    "## Step 3: Clean and Preprocess Review Text\n",
    "\n",
    "We clean the review text by:  \n",
    "- Converting to lowercase  \n",
    "- Replacing hyphens with spaces  \n",
    "- Removing punctuation  \n",
    "- Stripping extra whitespace  \n",
    "This helps improve sentiment analysis accuracy.\n"
   ]
  },
  {
   "cell_type": "code",
   "execution_count": 3,
   "id": "48145f3d",
   "metadata": {},
   "outputs": [
    {
     "data": {
      "text/html": [
       "<div>\n",
       "<style scoped>\n",
       "    .dataframe tbody tr th:only-of-type {\n",
       "        vertical-align: middle;\n",
       "    }\n",
       "\n",
       "    .dataframe tbody tr th {\n",
       "        vertical-align: top;\n",
       "    }\n",
       "\n",
       "    .dataframe thead th {\n",
       "        text-align: right;\n",
       "    }\n",
       "</style>\n",
       "<table border=\"1\" class=\"dataframe\">\n",
       "  <thead>\n",
       "    <tr style=\"text-align: right;\">\n",
       "      <th></th>\n",
       "      <th>ReviewText</th>\n",
       "      <th>cleaned_review</th>\n",
       "    </tr>\n",
       "  </thead>\n",
       "  <tbody>\n",
       "    <tr>\n",
       "      <th>0</th>\n",
       "      <td>Average  experience,  nothing  special.</td>\n",
       "      <td>average experience nothing special</td>\n",
       "    </tr>\n",
       "    <tr>\n",
       "      <th>1</th>\n",
       "      <td>The  quality  is    top-notch.</td>\n",
       "      <td>the quality is top notch</td>\n",
       "    </tr>\n",
       "    <tr>\n",
       "      <th>2</th>\n",
       "      <td>Five  stars  for  the  quick  delivery.</td>\n",
       "      <td>five stars for the quick delivery</td>\n",
       "    </tr>\n",
       "    <tr>\n",
       "      <th>3</th>\n",
       "      <td>Good  quality,  but  could  be  cheaper.</td>\n",
       "      <td>good quality but could be cheaper</td>\n",
       "    </tr>\n",
       "    <tr>\n",
       "      <th>4</th>\n",
       "      <td>Average  experience,  nothing  special.</td>\n",
       "      <td>average experience nothing special</td>\n",
       "    </tr>\n",
       "  </tbody>\n",
       "</table>\n",
       "</div>"
      ],
      "text/plain": [
       "                                 ReviewText  \\\n",
       "0   Average  experience,  nothing  special.   \n",
       "1            The  quality  is    top-notch.   \n",
       "2   Five  stars  for  the  quick  delivery.   \n",
       "3  Good  quality,  but  could  be  cheaper.   \n",
       "4   Average  experience,  nothing  special.   \n",
       "\n",
       "                       cleaned_review  \n",
       "0  average experience nothing special  \n",
       "1            the quality is top notch  \n",
       "2   five stars for the quick delivery  \n",
       "3   good quality but could be cheaper  \n",
       "4  average experience nothing special  "
      ]
     },
     "metadata": {},
     "output_type": "display_data"
    }
   ],
   "source": [
    "def clean_text(text):\n",
    "    try:\n",
    "        text = str(text).lower()\n",
    "        text = text.replace('-', ' ')\n",
    "        text = re.sub(r'[^\\w\\s]', '', text)\n",
    "        text = re.sub(r'\\s+', ' ', text).strip()\n",
    "        return text\n",
    "    except Exception as e:\n",
    "        print(f\"Error cleaning text: {e}\")\n",
    "        return \"\"\n",
    "\n",
    "df['cleaned_review'] = df['ReviewText'].fillna('').apply(clean_text)\n",
    "display(df[['ReviewText', 'cleaned_review']].head())\n"
   ]
  },
  {
   "cell_type": "markdown",
   "id": "8729e20f",
   "metadata": {},
   "source": [
    "## Step 4: Calculate Sentiment Scores Using TextBlob\n",
    "\n",
    "We use TextBlob's sentiment polarity score, which ranges from -1 (negative) to +1 (positive).  \n",
    "If an error occurs during analysis, we assign a neutral score of 0.\n"
   ]
  },
  {
   "cell_type": "code",
   "execution_count": 4,
   "id": "dfc154dc",
   "metadata": {},
   "outputs": [
    {
     "data": {
      "text/html": [
       "<div>\n",
       "<style scoped>\n",
       "    .dataframe tbody tr th:only-of-type {\n",
       "        vertical-align: middle;\n",
       "    }\n",
       "\n",
       "    .dataframe tbody tr th {\n",
       "        vertical-align: top;\n",
       "    }\n",
       "\n",
       "    .dataframe thead th {\n",
       "        text-align: right;\n",
       "    }\n",
       "</style>\n",
       "<table border=\"1\" class=\"dataframe\">\n",
       "  <thead>\n",
       "    <tr style=\"text-align: right;\">\n",
       "      <th></th>\n",
       "      <th>cleaned_review</th>\n",
       "      <th>sentiment_score</th>\n",
       "    </tr>\n",
       "  </thead>\n",
       "  <tbody>\n",
       "    <tr>\n",
       "      <th>0</th>\n",
       "      <td>average experience nothing special</td>\n",
       "      <td>0.103571</td>\n",
       "    </tr>\n",
       "    <tr>\n",
       "      <th>1</th>\n",
       "      <td>the quality is top notch</td>\n",
       "      <td>0.500000</td>\n",
       "    </tr>\n",
       "    <tr>\n",
       "      <th>2</th>\n",
       "      <td>five stars for the quick delivery</td>\n",
       "      <td>0.333333</td>\n",
       "    </tr>\n",
       "    <tr>\n",
       "      <th>3</th>\n",
       "      <td>good quality but could be cheaper</td>\n",
       "      <td>0.700000</td>\n",
       "    </tr>\n",
       "    <tr>\n",
       "      <th>4</th>\n",
       "      <td>average experience nothing special</td>\n",
       "      <td>0.103571</td>\n",
       "    </tr>\n",
       "  </tbody>\n",
       "</table>\n",
       "</div>"
      ],
      "text/plain": [
       "                       cleaned_review  sentiment_score\n",
       "0  average experience nothing special         0.103571\n",
       "1            the quality is top notch         0.500000\n",
       "2   five stars for the quick delivery         0.333333\n",
       "3   good quality but could be cheaper         0.700000\n",
       "4  average experience nothing special         0.103571"
      ]
     },
     "metadata": {},
     "output_type": "display_data"
    }
   ],
   "source": [
    "def safe_sentiment_analysis(text):\n",
    "    try:\n",
    "        return TextBlob(text).sentiment.polarity\n",
    "    except Exception as e:\n",
    "        print(f\"Error in sentiment analysis: {e}\")\n",
    "        return 0.0\n",
    "\n",
    "df['sentiment_score'] = df['cleaned_review'].apply(safe_sentiment_analysis)\n",
    "display(df[['cleaned_review', 'sentiment_score']].head())\n"
   ]
  },
  {
   "cell_type": "markdown",
   "id": "91e04246",
   "metadata": {},
   "source": [
    "## Step 5: Classify Sentiment Labels\n",
    "\n",
    "We classify reviews into three categories based on polarity scores:  \n",
    "- Positive: score > 0.1  \n",
    "- Negative: score < -0.1  \n",
    "- Neutral: otherwise\n"
   ]
  },
  {
   "cell_type": "code",
   "execution_count": 5,
   "id": "6c51dc95",
   "metadata": {},
   "outputs": [
    {
     "data": {
      "text/plain": [
       "sentiment\n",
       "Positive    1063\n",
       "Negative     200\n",
       "Neutral      100\n",
       "Name: count, dtype: int64"
      ]
     },
     "execution_count": 5,
     "metadata": {},
     "output_type": "execute_result"
    }
   ],
   "source": [
    "def classify_sentiment(score):\n",
    "    if score > 0.1:\n",
    "        return 'Positive'\n",
    "    elif score < -0.1:\n",
    "        return 'Negative'\n",
    "    else:\n",
    "        return 'Neutral'\n",
    "\n",
    "df['sentiment'] = df['sentiment_score'].apply(classify_sentiment)\n",
    "df['sentiment'].value_counts()\n"
   ]
  },
  {
   "cell_type": "markdown",
   "id": "50f82499",
   "metadata": {},
   "source": [
    "## Step 6: Visualise Sentiment Distribution\n",
    "\n",
    "Let's see the count of reviews per sentiment category.\n"
   ]
  },
  {
   "cell_type": "code",
   "execution_count": 6,
   "id": "65d699bf",
   "metadata": {},
   "outputs": [
    {
     "data": {
      "image/png": "[encoded data removed]",
      "text/plain": [
       "<Figure size 640x480 with 1 Axes>"
      ]
     },
     "metadata": {},
     "output_type": "display_data"
    }
   ],
   "source": [
    "df['sentiment'].value_counts().plot(kind='bar', color=['green', 'grey', 'red'])\n",
    "plt.title('Sentiment Distribution')\n",
    "plt.xlabel('Sentiment')\n",
    "plt.ylabel('Number of Reviews')\n",
    "plt.show()\n"
   ]
  },
  {
   "cell_type": "markdown",
   "id": "3491ff01",
   "metadata": {},
   "source": [
    "## Step 7: Export Results\n",
    "\n",
    "Save the processed data with sentiment labels to an Excel file for use in Power BI or other dashboards.\n"
   ]
  },
  {
   "cell_type": "code",
   "execution_count": 7,
   "id": "8c525d10",
   "metadata": {},
   "outputs": [
    {
     "name": "stdout",
     "output_type": "stream",
     "text": [
      "Sentiment analysis results saved to:\n",
      "D:\\GitHub\\marketing-analytics-sentiment-sports-ecommerce\\data\\processed\\sentiment_tb_results.xlsx\n"
     ]
    }
   ],
   "source": [
    "output_path = r\"D:\\GitHub\\marketing-analytics-sentiment-sports-ecommerce\\data\\processed\\sentiment_tb_results.xlsx\"\n",
    "df.to_excel(output_path, index=False)\n",
    "print(f\"Sentiment analysis results saved to:\\n{output_path}\")\n"
   ]
  },
  {
   "cell_type": "markdown",
   "id": "5e2c1a55",
   "metadata": {},
   "source": [
    "# Summary\n",
    "\n",
    "In this notebook, we successfully:\n",
    "\n",
    "- Connected to a SQL Server database and loaded customer reviews  \n",
    "- Cleaned and preprocessed the review text for analysis  \n",
    "- Applied TextBlob to calculate sentiment polarity scores  \n",
    "- Classified each review into **Positive**, **Neutral**, or **Negative** categories  \n",
    "- Visualised the sentiment distribution across all reviews  \n",
    "- Exported the sentiment-labelled data for integration into reporting tools\n",
    "\n",
    "---\n",
    "\n",
    "### Next Steps\n",
    "\n",
    "- Perform deeper analysis (e.g., trends by product, time, or customer segments) to uncover behavioural patterns  \n",
    "- Assess the impact of marketing campaigns on sentiment and customer behaviour  \n",
    "- Build interactive Power BI dashboards using time intelligence, KPIs, and visual storytelling  \n",
    "- Translate insights into actionable recommendations for marketing and customer experience teams\n",
    "\n"
   ]
  }
 ],
 "metadata": {
  "kernelspec": {
   "display_name": "Python 3",
   "language": "python",
   "name": "python3"
  },
  "language_info": {
   "codemirror_mode": {
    "name": "ipython",
    "version": 3
   },
   "file_extension": ".py",
   "mimetype": "text/x-python",
   "name": "python",
   "nbconvert_exporter": "python",
   "pygments_lexer": "ipython3",
   "version": "3.13.4"
  }
 },
 "nbformat": 4,
 "nbformat_minor": 5
}
